{
 "cells": [
  {
   "cell_type": "code",
   "execution_count": 8,
   "metadata": {
    "scrolled": true
   },
   "outputs": [
    {
     "name": "stdout",
     "output_type": "stream",
     "text": [
      "3 + 4 = 7\n"
     ]
    }
   ],
   "source": [
    "# 매개변수 지정하여 호출하기\n",
    "# 일반적인 함수\n",
    "def add(a,b):\n",
    "    return a,b,a+b\n",
    "\n",
    "a,b,res = add(b=5,a=3)\n",
    "print(\"%d + %d = %d\"%(b,a,res))\n",
    "priint(\"-\"20)"
   ]
  },
  {
   "cell_type": "code",
   "execution_count": null,
   "metadata": {},
   "outputs": [],
   "source": [
    "# 입력값이 없는 함수\n",
    "\n",
    "def say():\n",
    "    return 'hi'\n",
    "\n",
    "print(say())\n",
    "priint(\"-\"20)"
   ]
  },
  {
   "cell_type": "code",
   "execution_count": 12,
   "metadata": {},
   "outputs": [
    {
     "name": "stdout",
     "output_type": "stream",
     "text": [
      "3,4의 합은 7입니다.\n",
      "None\n",
      "--------------------\n"
     ]
    }
   ],
   "source": [
    "# 결과값이 없는 함수\n",
    "# 결과값은 오직 return 명령어로만 돌려받을 수 있다.\n",
    "\n",
    "def add2(a,b):\n",
    "    print(\"%d,%d의 합은 %d입니다.\"%(a,b,a+b))\n",
    "    \n",
    "print(add2(3,4))\n",
    "print(\"-\"*20)"
   ]
  },
  {
   "cell_type": "code",
   "execution_count": 13,
   "metadata": {},
   "outputs": [
    {
     "name": "stdout",
     "output_type": "stream",
     "text": [
      "hi\n",
      "--------------------\n"
     ]
    }
   ],
   "source": [
    "#입력값도 결과값도 없는 함수\n",
    "\n",
    "def say2():\n",
    "    print(\"hi\")\n",
    "    \n",
    "say2()\n",
    "print(\"-\"*20)"
   ]
  }
 ],
 "metadata": {
  "kernelspec": {
   "display_name": "Python 3",
   "language": "python",
   "name": "python3"
  },
  "language_info": {
   "codemirror_mode": {
    "name": "ipython",
    "version": 3
   },
   "file_extension": ".py",
   "mimetype": "text/x-python",
   "name": "python",
   "nbconvert_exporter": "python",
   "pygments_lexer": "ipython3",
   "version": "3.6.5"
  }
 },
 "nbformat": 4,
 "nbformat_minor": 2
}
