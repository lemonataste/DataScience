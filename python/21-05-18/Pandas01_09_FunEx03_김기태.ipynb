{
 "cells": [
  {
   "cell_type": "code",
   "execution_count": 1,
   "metadata": {},
   "outputs": [
    {
     "name": "stdout",
     "output_type": "stream",
     "text": [
      "5\n",
      "6\n"
     ]
    }
   ],
   "source": [
    "def add_mul(choice,*args):\n",
    "    if choice == 'add':\n",
    "        res= 0\n",
    "        for i in args:\n",
    "            res=res+i\n",
    "    elif choice=='mul':\n",
    "        res=1\n",
    "        for i in args:\n",
    "            res=res*i\n",
    "    return res\n",
    "\n",
    "res1=add_mul('add',2,3)\n",
    "print(res1)\n",
    "res2=add_mul('mul',2,3)\n",
    "print(res2)"
   ]
  }
 ],
 "metadata": {
  "kernelspec": {
   "display_name": "Python 3",
   "language": "python",
   "name": "python3"
  },
  "language_info": {
   "codemirror_mode": {
    "name": "ipython",
    "version": 3
   },
   "file_extension": ".py",
   "mimetype": "text/x-python",
   "name": "python",
   "nbconvert_exporter": "python",
   "pygments_lexer": "ipython3",
   "version": "3.6.5"
  }
 },
 "nbformat": 4,
 "nbformat_minor": 2
}
