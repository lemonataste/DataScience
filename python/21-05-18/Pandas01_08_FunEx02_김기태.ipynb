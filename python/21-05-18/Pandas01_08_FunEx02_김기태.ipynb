{
 "cells": [
  {
   "cell_type": "code",
   "execution_count": 1,
   "metadata": {},
   "outputs": [
    {
     "name": "stdout",
     "output_type": "stream",
     "text": [
      "(1, 2)\n",
      "1/t2/t=>합 3\n",
      "--------------------\n",
      "(1, 2, 3)\n",
      "1/t2/t3/t=>합 6\n"
     ]
    }
   ],
   "source": [
    "def add_many(*args):\n",
    "    res = 0\n",
    "    cnt = 0\n",
    "    print(args)\n",
    "    for i in args:\n",
    "        print(i,end=\"\\t\")\n",
    "        res=res+i\n",
    "    return res\n",
    "\n",
    "res1=add_many(1,2)\n",
    "print(\"=>합 %d\"%res1)\n",
    "print(\"-\"*20)\n",
    "\n",
    "res2 = add_many(1,2,3)\n",
    "print(\"=>합 %d\"%res2)"
   ]
  }
 ],
 "metadata": {
  "kernelspec": {
   "display_name": "Python 3",
   "language": "python",
   "name": "python3"
  },
  "language_info": {
   "codemirror_mode": {
    "name": "ipython",
    "version": 3
   },
   "file_extension": ".py",
   "mimetype": "text/x-python",
   "name": "python",
   "nbconvert_exporter": "python",
   "pygments_lexer": "ipython3",
   "version": "3.6.5"
  }
 },
 "nbformat": 4,
 "nbformat_minor": 2
}
