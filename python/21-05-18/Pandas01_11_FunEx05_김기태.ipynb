{
 "cells": [
  {
   "cell_type": "code",
   "execution_count": 3,
   "metadata": {},
   "outputs": [
    {
     "name": "stdout",
     "output_type": "stream",
     "text": [
      "(7, 12)\n",
      "7 12\n"
     ]
    }
   ],
   "source": [
    "#함수의 결과값은 언제나 하나이다.\n",
    "# 튜플값 하나인 (a+b,a*b)로 돌려준다.\n",
    "\n",
    "def add_and_mul(a,b):\n",
    "    return a+b,a*b\n",
    "\n",
    "res = add_and_mul(3,4)\n",
    "print(res)\n",
    "\n",
    "#튜플 값을 2개의 결괏값처럼 받고싶다면,\n",
    "\n",
    "res1,res2=add_and_mul(3,4)\n",
    "print(res1,res2)"
   ]
  }
 ],
 "metadata": {
  "kernelspec": {
   "display_name": "Python 3",
   "language": "python",
   "name": "python3"
  },
  "language_info": {
   "codemirror_mode": {
    "name": "ipython",
    "version": 3
   },
   "file_extension": ".py",
   "mimetype": "text/x-python",
   "name": "python",
   "nbconvert_exporter": "python",
   "pygments_lexer": "ipython3",
   "version": "3.6.5"
  }
 },
 "nbformat": 4,
 "nbformat_minor": 2
}
