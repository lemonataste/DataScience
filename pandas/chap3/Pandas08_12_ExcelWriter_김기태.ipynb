{
 "cells": [
  {
   "cell_type": "code",
   "execution_count": 1,
   "metadata": {},
   "outputs": [],
   "source": [
    "import pandas as pd"
   ]
  },
  {
   "cell_type": "code",
   "execution_count": 5,
   "metadata": {},
   "outputs": [],
   "source": [
    "data1 = {'name' : ['Jerry', 'Riah', 'Paul'],\n",
    "       'algol' : ['A','A+','B'],\n",
    "       'basic' : ['C','B','B'],\n",
    "       'c++' : [\"b+\",'C','C+'],\n",
    "       }\n",
    "\n",
    "data2 = {'c0' : [1,2,3],\n",
    "        'c1' : [4,5,6],\n",
    "        'c2' : [7,8,9],\n",
    "        'c3' : [10,11,12],\n",
    "        'c4' : [13,14,15]}"
   ]
  },
  {
   "cell_type": "code",
   "execution_count": 8,
   "metadata": {},
   "outputs": [
    {
     "name": "stdout",
     "output_type": "stream",
     "text": [
      "    c1  c2  c3  c4\n",
      "c0                \n",
      "1    4   7  10  13\n",
      "2    5   8  11  14\n",
      "3    6   9  12  15\n"
     ]
    }
   ],
   "source": [
    "d1 = pd.DataFrame(data1)\n",
    "d1.set_index('name',inplace= True)\n",
    "\n",
    "d2 = pd.DataFrame(data2)\n",
    "d2.set_index('c0',inplace= True)\n",
    "\n",
    "print(d2)"
   ]
  },
  {
   "cell_type": "code",
   "execution_count": 12,
   "metadata": {},
   "outputs": [],
   "source": [
    "writer = pd.ExcelWriter(\"./df_excelwriter.xlsx\")\n",
    "d1.to_excel(writer,sheet_name=\"시트1\")\n",
    "d2.to_excel(writer,sheet_name=\"시트2\")\n",
    "writer.save()"
   ]
  }
 ],
 "metadata": {
  "kernelspec": {
   "display_name": "Python 3",
   "language": "python",
   "name": "python3"
  },
  "language_info": {
   "codemirror_mode": {
    "name": "ipython",
    "version": 3
   },
   "file_extension": ".py",
   "mimetype": "text/x-python",
   "name": "python",
   "nbconvert_exporter": "python",
   "pygments_lexer": "ipython3",
   "version": "3.6.5"
  }
 },
 "nbformat": 4,
 "nbformat_minor": 2
}
