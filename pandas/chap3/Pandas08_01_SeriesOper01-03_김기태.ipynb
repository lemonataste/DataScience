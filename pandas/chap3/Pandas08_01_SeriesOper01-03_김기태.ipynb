{
 "cells": [
  {
   "cell_type": "code",
   "execution_count": 9,
   "metadata": {},
   "outputs": [
    {
     "name": "stdout",
     "output_type": "stream",
     "text": [
      "국어    100\n",
      "영어     80\n",
      "수학     90\n",
      "dtype: int64 \n",
      "\n",
      "국어    0.50\n",
      "영어    0.40\n",
      "수학    0.45\n",
      "dtype: float64 \n",
      "\n",
      "<class 'pandas.core.series.Series'>\n"
     ]
    }
   ],
   "source": [
    "import pandas as pd\n",
    "import numpy as np\n",
    "import seaborn as sns\n",
    "\n",
    "# 딕셔너리 데이터로 판다스 시리즈 만들기\n",
    "student1 = pd.Series({'국어' : 100, '영어' : 80, '수학' : 90})\n",
    "print(student1, '\\n')\n",
    "\n",
    "#학생의 과목별 점수를 200으로 나누기\n",
    "percentage = student1 / 200\n",
    "\n",
    "print(percentage, '\\n')\n",
    "print(type(percentage))"
   ]
  },
  {
   "cell_type": "code",
   "execution_count": 5,
   "metadata": {},
   "outputs": [
    {
     "name": "stdout",
     "output_type": "stream",
     "text": [
      "국어    100\n",
      "영어     80\n",
      "수학     90\n",
      "dtype: int64 \n",
      "\n",
      "수학    80\n",
      "국어    90\n",
      "영어    80\n",
      "dtype: int64 \n",
      "\n",
      "<class 'pandas.core.series.Series'> \n",
      "\n",
      "              국어        수학      영어\n",
      "덧셈    190.000000   170.000   160.0\n",
      "뺄셈     10.000000    10.000     0.0\n",
      "곱셈   9000.000000  7200.000  6400.0\n",
      "나눗셈     1.111111     1.125     1.0 \n",
      " <class 'pandas.core.frame.DataFrame'>\n",
      "국어    190\n",
      "수학    170\n",
      "영어    160\n",
      "dtype: int64 \n",
      " 국어    10\n",
      "수학    10\n",
      "영어     0\n",
      "dtype: int64 \n",
      " 국어    9000\n",
      "수학    7200\n",
      "영어    6400\n",
      "dtype: int64 \n",
      " 국어    1.111111\n",
      "수학    1.125000\n",
      "영어    1.000000\n",
      "dtype: float64\n"
     ]
    }
   ],
   "source": [
    "student1 = pd.Series({'국어' : 100, '영어' : 80, '수학' : 90})\n",
    "student2 = pd.Series({'수학' : 80, '국어' : 90, '영어' : 80})\n",
    "\n",
    "print(student1,'\\n')\n",
    "print(student2,'\\n')\n",
    "\n",
    "#두 학생의 과목별 점수로 사칙연산 수행\n",
    "add = student1 + student2\n",
    "sub = student1 - student2\n",
    "mul = student1 * student2\n",
    "div = student1 / student2\n",
    "print(type(div), '\\n')\n",
    "\n",
    "#사칙연산 결과를 데이터프레임으로 합치기 (시리즈 -> 데이터프레임)\n",
    "res = pd.DataFrame([add, sub ,mul, div],\n",
    "                  index = ['덧셈','뺄셈','곱셈','나눗셈'])\n",
    "print(res, '\\n', type(res))\n",
    "print(add, '\\n', sub, '\\n',mul,'\\n',div)"
   ]
  },
  {
   "cell_type": "code",
   "execution_count": 7,
   "metadata": {},
   "outputs": [
    {
     "name": "stdout",
     "output_type": "stream",
     "text": [
      "국어     NaN\n",
      "영어    80.0\n",
      "수학    90.0\n",
      "dtype: float64 \n",
      "\n",
      "수학    80\n",
      "국어    90\n",
      "dtype: int64 \n",
      "\n",
      "<class 'pandas.core.series.Series'> \n",
      "\n",
      "     국어        수학  영어\n",
      "덧셈  NaN   170.000 NaN\n",
      "뺄셈  NaN    10.000 NaN\n",
      "곱셈  NaN  7200.000 NaN\n",
      "나눗셈 NaN     1.125 NaN\n"
     ]
    }
   ],
   "source": [
    "student1 = pd.Series({'국어' : np.nan, '영어' : 80, '수학' : 90})\n",
    "student2 = pd.Series({'수학' : 80, '국어' : 90})\n",
    "\n",
    "print(student1,'\\n')\n",
    "print(student2,'\\n')\n",
    "\n",
    "#두 학생의 과목별 점수로 사칙연산 수행 (시리즈 vs 시리즈)\n",
    "add = student1 + student2\n",
    "sub = student1 - student2\n",
    "mul = student1 * student2\n",
    "div = student1 / student2\n",
    "print(type(div), '\\n')\n",
    "\n",
    "#사칙연산 결과를 데이터프레임으로 합치기 (시리즈 -> 데이터프레임)\n",
    "res = pd.DataFrame([add, sub ,mul, div],\n",
    "                  index = ['덧셈','뺄셈','곱셈','나눗셈'])\n",
    "print(res)\n"
   ]
  },
  {
   "cell_type": "code",
   "execution_count": 8,
   "metadata": {},
   "outputs": [
    {
     "name": "stdout",
     "output_type": "stream",
     "text": [
      "국어     NaN\n",
      "영어    80.0\n",
      "수학    90.0\n",
      "dtype: float64 \n",
      "\n",
      "수학    80\n",
      "국어    90\n",
      "dtype: int64 \n",
      "\n",
      "       국어        수학         영어\n",
      "덧셈   90.0   170.000  80.000000\n",
      "뺄셈  -90.0    10.000  80.000000\n",
      "곱셈    0.0  7200.000   0.000000\n",
      "나눗셈   0.0     1.125        inf\n"
     ]
    }
   ],
   "source": [
    "student1 = pd.Series({'국어' : np.nan, '영어' : 80, '수학' : 90})\n",
    "student2 = pd.Series({'수학' : 80, '국어' : 90})\n",
    "\n",
    "print(student1,'\\n')\n",
    "print(student2,'\\n')\n",
    "\n",
    "#두 학생의 과목별 점수로 사칙연산 수행 (연산 메소드 사용)\n",
    "sr_add = student1.add(student2, fill_value=0)\n",
    "sr_sub = student1.sub(student2, fill_value =0)\n",
    "sr_mul = student1.mul(student2, fill_value=0)\n",
    "sr_div = student1.div(student2, fill_value=0)\n",
    "\n",
    "\n",
    "#사칙연산 결과를 데이터프레임으로 합치기 (시리즈 -> 데이터프레임)\n",
    "res = pd.DataFrame([sr_add, sr_sub ,sr_mul, sr_div],\n",
    "                  index = ['덧셈','뺄셈','곱셈','나눗셈'])\n",
    "print(res)"
   ]
  },
  {
   "cell_type": "code",
   "execution_count": 11,
   "metadata": {},
   "outputs": [
    {
     "name": "stdout",
     "output_type": "stream",
     "text": [
      "Index(['survived', 'pclass', 'sex', 'age', 'sibsp', 'parch', 'fare',\n",
      "       'embarked', 'class', 'who', 'adult_male', 'deck', 'embark_town',\n",
      "       'alive', 'alone'],\n",
      "      dtype='object') \n",
      " (891, 15)\n",
      "    age     fare\n",
      "0  22.0   7.2500\n",
      "1  38.0  71.2833\n",
      "2  26.0   7.9250\n",
      "3  35.0  53.1000\n",
      "4  35.0   8.0500 \n",
      "\n",
      "<class 'pandas.core.frame.DataFrame'> \n",
      "\n",
      "    age     fare\n",
      "0  32.0  17.2500\n",
      "1  48.0  81.2833\n",
      "2  36.0  17.9250\n",
      "3  45.0  63.1000\n",
      "4  45.0  18.0500 \n",
      "\n",
      "<class 'pandas.core.frame.DataFrame'>\n",
      "      age  fare\n",
      "886  10.0  10.0\n",
      "887  10.0  10.0\n",
      "888   NaN  10.0\n",
      "889  10.0  10.0\n",
      "890  10.0  10.0 \n",
      "\n",
      "<class 'pandas.core.frame.DataFrame'>\n"
     ]
    }
   ],
   "source": [
    "#타이타닉 데이터 셋에서 age, fare 2개열을 선택하여 데이터프레임 만들기\n",
    "titanic = sns.load_dataset('titanic')\n",
    "print(titanic.columns, '\\n', titanic.shape)\n",
    "df = titanic.loc[:,['age','fare']]\n",
    "print(df.head(),'\\n')\n",
    "print(type(df),'\\n')\n",
    "\n",
    "#데이터프레임에 숫자 10 더하기\n",
    "add= df +10\n",
    "print(add.head(),'\\n')\n",
    "print(type(add))\n",
    "\n",
    "#데이터프레임 끼리 연산하기 (add - df)\n",
    "sub = add - df\n",
    "print(sub.tail(), '\\n')\n",
    "print(type(sub))"
   ]
  },
  {
   "cell_type": "code",
   "execution_count": null,
   "metadata": {},
   "outputs": [],
   "source": []
  },
  {
   "cell_type": "code",
   "execution_count": null,
   "metadata": {},
   "outputs": [],
   "source": []
  }
 ],
 "metadata": {
  "kernelspec": {
   "display_name": "Python 3",
   "language": "python",
   "name": "python3"
  },
  "language_info": {
   "codemirror_mode": {
    "name": "ipython",
    "version": 3
   },
   "file_extension": ".py",
   "mimetype": "text/x-python",
   "name": "python",
   "nbconvert_exporter": "python",
   "pygments_lexer": "ipython3",
   "version": "3.6.5"
  }
 },
 "nbformat": 4,
 "nbformat_minor": 2
}
