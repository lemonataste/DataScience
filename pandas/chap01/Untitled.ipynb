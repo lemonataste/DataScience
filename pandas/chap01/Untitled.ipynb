{
 "cells": [
  {
   "cell_type": "code",
   "execution_count": null,
   "metadata": {},
   "outputs": [],
   "source": [
    "import random\n",
    "lst=[]\n",
    "\n",
    "def recursive(m):\n",
    "    if(chk == len(lst)):\n",
    "        return\n",
    "    \n",
    "    for i in range(m):\n",
    "        num = random.randint(1,len(name))\n",
    "        if num not in lst:\n",
    "            lst.append(num)\n",
    "        else:\n",
    "            recursive(chk-len(lst))\n",
    "            \n",
    "\n",
    "while True:\n",
    "    name = input(\"4인 이상의 이름을 입력하시오. (스페이스바로 구분한다.)\").split()\n",
    "    if len(name) >= 4:\n",
    "        for i in name:\n",
    "            print (i,end=\" \")\n",
    "        print(\"\")\n",
    "        \n",
    "        chk = len(name)\n",
    "        lst=[]\n",
    "        \n",
    "        recursive(chk)\n",
    "        print(lst)"
   ]
  },
  {
   "cell_type": "code",
   "execution_count": null,
   "metadata": {},
   "outputs": [],
   "source": []
  }
 ],
 "metadata": {
  "kernelspec": {
   "display_name": "Python 3",
   "language": "python",
   "name": "python3"
  },
  "language_info": {
   "codemirror_mode": {
    "name": "ipython",
    "version": 3
   },
   "file_extension": ".py",
   "mimetype": "text/x-python",
   "name": "python",
   "nbconvert_exporter": "python",
   "pygments_lexer": "ipython3",
   "version": "3.6.5"
  }
 },
 "nbformat": 4,
 "nbformat_minor": 2
}
