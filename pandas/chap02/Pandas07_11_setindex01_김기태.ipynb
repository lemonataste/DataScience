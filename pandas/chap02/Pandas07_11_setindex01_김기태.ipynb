{
 "cells": [
  {
   "cell_type": "code",
   "execution_count": 1,
   "metadata": {},
   "outputs": [],
   "source": [
    "import pandas as pd"
   ]
  },
  {
   "cell_type": "code",
   "execution_count": 2,
   "metadata": {},
   "outputs": [
    {
     "name": "stdout",
     "output_type": "stream",
     "text": [
      "   이름  수학  영어   음악   체육\n",
      "0  서준  90  98   85  100\n",
      "1  우현  80  89   95   90\n",
      "2  인아  70  95  100   90 \n",
      "\n"
     ]
    }
   ],
   "source": [
    "exam_data = {'이름' : ['서준','우현','인아'],\n",
    "            '수학' : [90,80,70],\n",
    "            '영어' : [98,89,95],\n",
    "            '음악' : [85,95,100],\n",
    "            '체육' : [100,90,90]}\n",
    "\n",
    "df = pd.DataFrame(exam_data)\n",
    "print(df,'\\n')"
   ]
  },
  {
   "cell_type": "code",
   "execution_count": 3,
   "metadata": {},
   "outputs": [
    {
     "name": "stdout",
     "output_type": "stream",
     "text": [
      "    수학  영어   음악   체육\n",
      "이름                  \n",
      "서준  90  98   85  100\n",
      "우현  80  89   95   90\n",
      "인아  70  95  100   90 \n",
      "\n",
      "     이름  수학  영어   체육\n",
      "음악                  \n",
      "85   서준  90  98  100\n",
      "95   우현  80  89   90\n",
      "100  인아  70  95   90 \n",
      "\n",
      "        이름  영어   체육\n",
      "수학 음악              \n",
      "90 85   서준  98  100\n",
      "80 95   우현  89   90\n",
      "70 100  인아  95   90 \n",
      "\n",
      "         이름  수학  영어\n",
      "음악  체육             \n",
      "85  100  서준  90  98\n",
      "95  90   우현  80  89\n",
      "100 90   인아  70  95 \n",
      "\n"
     ]
    }
   ],
   "source": [
    "ndf = df.set_index(['이름'])\n",
    "print(ndf,'\\n')\n",
    "ndf2 = df.set_index(['음악'])\n",
    "print(ndf2,'\\n')\n",
    "ndf3 = df.set_index(['수학','음악'])\n",
    "print(ndf3,'\\n')\n",
    "ndf4 = df.set_index(['음악','체육'])\n",
    "print(ndf4,'\\n')\n"
   ]
  },
  {
   "cell_type": "code",
   "execution_count": null,
   "metadata": {},
   "outputs": [],
   "source": []
  }
 ],
 "metadata": {
  "kernelspec": {
   "display_name": "Python 3",
   "language": "python",
   "name": "python3"
  },
  "language_info": {
   "codemirror_mode": {
    "name": "ipython",
    "version": 3
   },
   "file_extension": ".py",
   "mimetype": "text/x-python",
   "name": "python",
   "nbconvert_exporter": "python",
   "pygments_lexer": "ipython3",
   "version": "3.6.5"
  }
 },
 "nbformat": 4,
 "nbformat_minor": 2
}
