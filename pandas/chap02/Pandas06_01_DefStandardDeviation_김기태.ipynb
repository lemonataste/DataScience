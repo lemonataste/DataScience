{
 "cells": [
  {
   "cell_type": "code",
   "execution_count": 1,
   "metadata": {},
   "outputs": [],
   "source": [
    "import pandas as pd"
   ]
  },
  {
   "cell_type": "code",
   "execution_count": 37,
   "metadata": {},
   "outputs": [
    {
     "name": "stdout",
     "output_type": "stream",
     "text": [
      "28.0\n",
      "[20, 24, 25, 26, 28, 30, 30, 31, 31, 31, 32]\n",
      "30\n",
      "[-8.0, -4.0, -3.0, -2.0, 0.0, 2.0, 2.0, 3.0, 3.0, 3.0, 4.0]\n",
      "14.4\n",
      "3.794733192202055\n",
      "12\n"
     ]
    }
   ],
   "source": [
    "datalist = [28,31,24,25,30,32,20,30,31,26,31]\n",
    "\n",
    "\n",
    "def mMean():\n",
    "    a=sum(datalist)\n",
    "    b=len(datalist)\n",
    "    res = a/b\n",
    "    return res\n",
    "    \n",
    "\n",
    "def mMedian():\n",
    "    datalist.sort()\n",
    "    print(datalist)\n",
    "    meddata = int(len(datalist) / 2)\n",
    "    if len(datalist)%2==1:\n",
    "        a=datalist[meddata]\n",
    "    else:\n",
    "        a=(datalist[meddata] + datalist[meddata -1]) / 2\n",
    "    return a\n",
    "    \n",
    "def mDeviation():\n",
    "    delist = []\n",
    "    for i in datalist:\n",
    "        manum=i-mMean()\n",
    "        delist.append(manum)\n",
    "    return delist\n",
    "\n",
    "    \n",
    "def mVariance():\n",
    "    total=0\n",
    "    for i in range(len(mDeviation())):\n",
    "        plnum=mDeviation()[i]**2\n",
    "        total=total+plnum\n",
    "    res=total/(len(mDeviation())-1)\n",
    "    return res\n",
    "\n",
    "def mStandardDeviation():\n",
    "    res=mVariance()**0.5\n",
    "    return res\n",
    "\n",
    "def mRange():\n",
    "    dmax=max(datalist)\n",
    "    dmin=min(datalist)\n",
    "    res = dmax-dmin\n",
    "    return res\n",
    "        \n",
    "print(mMean())\n",
    "\n",
    "print(mMedian())\n",
    "\n",
    "print(mDeviation())\n",
    "\n",
    "print(mVariance())\n",
    "\n",
    "print(mStandardDeviation())\n",
    "\n",
    "print(mRange())\n",
    "\n",
    "\n",
    "\n",
    "\n"
   ]
  },
  {
   "cell_type": "code",
   "execution_count": null,
   "metadata": {},
   "outputs": [],
   "source": []
  }
 ],
 "metadata": {
  "kernelspec": {
   "display_name": "Python 3",
   "language": "python",
   "name": "python3"
  },
  "language_info": {
   "codemirror_mode": {
    "name": "ipython",
    "version": 3
   },
   "file_extension": ".py",
   "mimetype": "text/x-python",
   "name": "python",
   "nbconvert_exporter": "python",
   "pygments_lexer": "ipython3",
   "version": "3.6.5"
  }
 },
 "nbformat": 4,
 "nbformat_minor": 2
}
