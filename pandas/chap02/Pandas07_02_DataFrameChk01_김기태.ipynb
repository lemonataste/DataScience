{
 "cells": [
  {
   "cell_type": "code",
   "execution_count": 1,
   "metadata": {},
   "outputs": [],
   "source": [
    "import pandas as pd"
   ]
  },
  {
   "cell_type": "code",
   "execution_count": 3,
   "metadata": {},
   "outputs": [
    {
     "name": "stdout",
     "output_type": "stream",
     "text": [
      "    나이 성별   학교\n",
      "준서  15  남  덕영중\n",
      "예은  17  여  수리중 \n",
      "\n",
      "Index(['준서', '예은'], dtype='object') \n",
      "\n",
      "Index(['나이', '성별', '학교'], dtype='object') \n",
      "\n",
      "     연령 남녀   소속\n",
      "학생1  15  남  덕영중\n",
      "학생2  17  여  수리중 \n",
      "\n",
      "Index(['학생1', '학생2'], dtype='object') \n",
      "\n",
      "Index(['연령', '남녀', '소속'], dtype='object') \n",
      "\n"
     ]
    }
   ],
   "source": [
    "df = pd.DataFrame([[15, '남', '덕영중'],[17, '여','수리중']],\n",
    "                 index=['준서','예은'],\n",
    "                 columns=['나이','성별','학교'])\n",
    "\n",
    "print(df,'\\n')\n",
    "print(df.index,'\\n')\n",
    "print(df.columns,'\\n')\n",
    "\n",
    "df.index = ['학생1','학생2']\n",
    "df.columns=['연령','남녀','소속']\n",
    "            \n",
    "print(df,'\\n')\n",
    "print(df.index,'\\n')\n",
    "print(df.columns,'\\n')"
   ]
  },
  {
   "cell_type": "code",
   "execution_count": 6,
   "metadata": {},
   "outputs": [
    {
     "name": "stdout",
     "output_type": "stream",
     "text": [
      "    나이 성별   학교\n",
      "준서  15  남  덕영중\n",
      "예은  17  여  수리중 \n",
      "\n",
      "    연령 남녀   소속\n",
      "준서  15  남  덕영중\n",
      "예은  17  여  수리중\n",
      "    나이 성별   학교\n",
      "준서  15  남  덕영중\n",
      "예은  17  여  수리중\n",
      "     연령 남녀   소속\n",
      "학생1  15  남  덕영중\n",
      "학생2  17  여  수리중\n"
     ]
    }
   ],
   "source": [
    "df = pd.DataFrame([[15, '남', '덕영중'],[17, '여','수리중']],\n",
    "                 index=['준서','예은'],\n",
    "                 columns=['나이','성별','학교'])\n",
    "\n",
    "print(df,'\\n')\n",
    "\n",
    "redf = df.rename(columns={'나이':'연령','성별':'남녀','학교':'소속'})\n",
    "df.rename(index={'준서':'학생1','예은':'학생2'})\n",
    "\n",
    "print(redf)\n",
    "print(df)\n",
    "\n",
    "df.rename(columns={'나이':'연령','성별':'남녀','학교':'소속'}, inplace=True)\n",
    "df.rename(index={'준서':'학생1','예은':'학생2'}, inplace=True)\n",
    "\n",
    "print(df)"
   ]
  }
 ],
 "metadata": {
  "kernelspec": {
   "display_name": "Python 3",
   "language": "python",
   "name": "python3"
  },
  "language_info": {
   "codemirror_mode": {
    "name": "ipython",
    "version": 3
   },
   "file_extension": ".py",
   "mimetype": "text/x-python",
   "name": "python",
   "nbconvert_exporter": "python",
   "pygments_lexer": "ipython3",
   "version": "3.6.5"
  }
 },
 "nbformat": 4,
 "nbformat_minor": 2
}
