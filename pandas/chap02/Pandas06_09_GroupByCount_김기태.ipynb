{
 "cells": [
  {
   "cell_type": "code",
   "execution_count": 1,
   "metadata": {},
   "outputs": [],
   "source": [
    "import pandas as pd"
   ]
  },
  {
   "cell_type": "code",
   "execution_count": 2,
   "metadata": {},
   "outputs": [],
   "source": [
    "df = pd.read_csv('../data/gapminder.tsv', sep='\\t')"
   ]
  },
  {
   "cell_type": "code",
   "execution_count": 3,
   "metadata": {},
   "outputs": [
    {
     "name": "stdout",
     "output_type": "stream",
     "text": [
      "<pandas.core.groupby.groupby.SeriesGroupBy object at 0x0000014B9FFBEBE0>\n"
     ]
    }
   ],
   "source": [
    "print(df.groupby('continent')['country'])"
   ]
  },
  {
   "cell_type": "code",
   "execution_count": 8,
   "metadata": {},
   "outputs": [
    {
     "name": "stdout",
     "output_type": "stream",
     "text": [
      "continent\n",
      "Africa      52\n",
      "Americas    25\n",
      "Asia        33\n",
      "Europe      30\n",
      "Oceania      2\n",
      "Name: country, dtype: int64\n",
      "continent\n",
      "Africa      [Algeria, Angola, Benin, Botswana, Burkina Fas...\n",
      "Americas    [Argentina, Bolivia, Brazil, Canada, Chile, Co...\n",
      "Asia        [Afghanistan, Bahrain, Bangladesh, Cambodia, C...\n",
      "Europe      [Albania, Austria, Belgium, Bosnia and Herzego...\n",
      "Oceania                              [Australia, New Zealand]\n",
      "Name: country, dtype: object\n",
      "['Australia' 'New Zealand']\n",
      "continent\n",
      "Africa      624\n",
      "Americas    300\n",
      "Asia        396\n",
      "Europe      360\n",
      "Oceania      24\n",
      "Name: country, dtype: int64\n",
      "624\n"
     ]
    }
   ],
   "source": [
    "print(df.groupby('continent')['country'].nunique())\n",
    "print(df.groupby('continent')['country'].unique())\n",
    "print(df.groupby('continent')['country'].unique()['Oceania'])\n",
    "print(df.groupby('continent')['country'].count())\n",
    "print(df.groupby('continent')['country'].count()['Africa'])"
   ]
  },
  {
   "cell_type": "code",
   "execution_count": null,
   "metadata": {},
   "outputs": [],
   "source": []
  }
 ],
 "metadata": {
  "kernelspec": {
   "display_name": "Python 3",
   "language": "python",
   "name": "python3"
  },
  "language_info": {
   "codemirror_mode": {
    "name": "ipython",
    "version": 3
   },
   "file_extension": ".py",
   "mimetype": "text/x-python",
   "name": "python",
   "nbconvert_exporter": "python",
   "pygments_lexer": "ipython3",
   "version": "3.6.5"
  }
 },
 "nbformat": 4,
 "nbformat_minor": 2
}
