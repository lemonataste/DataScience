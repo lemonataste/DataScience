{
 "cells": [
  {
   "cell_type": "code",
   "execution_count": 1,
   "metadata": {},
   "outputs": [],
   "source": [
    "import pandas as pd"
   ]
  },
  {
   "cell_type": "code",
   "execution_count": 2,
   "metadata": {},
   "outputs": [],
   "source": [
    "df = pd.read_csv('../data/gapminder.tsv', sep='\\t')"
   ]
  },
  {
   "cell_type": "code",
   "execution_count": 3,
   "metadata": {},
   "outputs": [
    {
     "name": "stdout",
     "output_type": "stream",
     "text": [
      "continent\n",
      "Africa      624\n",
      "Americas    300\n",
      "Asia        396\n",
      "Europe      360\n",
      "Oceania      24\n",
      "Name: year, dtype: int64\n"
     ]
    }
   ],
   "source": [
    "print(df.groupby('continent')['year'].count())"
   ]
  },
  {
   "cell_type": "code",
   "execution_count": 4,
   "metadata": {},
   "outputs": [
    {
     "name": "stdout",
     "output_type": "stream",
     "text": [
      "<class 'numpy.ndarray'>\n",
      "['Asia' 'Europe' 'Africa' 'Americas' 'Oceania'] \n",
      "===>\n"
     ]
    }
   ],
   "source": [
    "unilist = df['continent'].unique()\n",
    "print(type(unilist))\n",
    "print(unilist,\"\\n===>\")"
   ]
  },
  {
   "cell_type": "code",
   "execution_count": 7,
   "metadata": {},
   "outputs": [
    {
     "name": "stdout",
     "output_type": "stream",
     "text": [
      "Asia =====>  1  :\n",
      "396 \n",
      "=====> 2 \n",
      ":        country continent  year  lifeExp       pop   gdpPercap\n",
      "0  Afghanistan      Asia  1952   28.801   8425333  779.445314\n",
      "1  Afghanistan      Asia  1957   30.332   9240934  820.853030\n",
      "2  Afghanistan      Asia  1962   31.997  10267083  853.100710 \n",
      "=====> 3 : (396, 6)\n",
      "396\n",
      "Europe =====>  1  :\n",
      "360 \n",
      "=====> 2 \n",
      ":     country continent  year  lifeExp      pop    gdpPercap\n",
      "12  Albania    Europe  1952    55.23  1282697  1601.056136\n",
      "13  Albania    Europe  1957    59.28  1476505  1942.284244\n",
      "14  Albania    Europe  1962    64.82  1728137  2312.888958 \n",
      "=====> 3 : (360, 6)\n",
      "360\n",
      "Africa =====>  1  :\n",
      "624 \n",
      "=====> 2 \n",
      ":     country continent  year  lifeExp       pop    gdpPercap\n",
      "24  Algeria    Africa  1952   43.077   9279525  2449.008185\n",
      "25  Algeria    Africa  1957   45.685  10270856  3013.976023\n",
      "26  Algeria    Africa  1962   48.303  11000948  2550.816880 \n",
      "=====> 3 : (624, 6)\n",
      "624\n",
      "Americas =====>  1  :\n",
      "300 \n",
      "=====> 2 \n",
      ":       country continent  year  lifeExp       pop    gdpPercap\n",
      "48  Argentina  Americas  1952   62.485  17876956  5911.315053\n",
      "49  Argentina  Americas  1957   64.399  19610538  6856.856212\n",
      "50  Argentina  Americas  1962   65.142  21283783  7133.166023 \n",
      "=====> 3 : (300, 6)\n",
      "300\n",
      "Oceania =====>  1  :\n",
      "24 \n",
      "=====> 2 \n",
      ":       country continent  year  lifeExp       pop    gdpPercap\n",
      "60  Australia   Oceania  1952    69.12   8691212  10039.59564\n",
      "61  Australia   Oceania  1957    70.33   9712569  10949.64959\n",
      "62  Australia   Oceania  1962    70.93  10794968  12217.22686 \n",
      "=====> 3 : (24, 6)\n",
      "24\n"
     ]
    }
   ],
   "source": [
    "for idx in unilist:\n",
    "    print(idx,\"=====>  1  :\")\n",
    "    grcon = df[df['continent']==idx]\n",
    "    print(len(grcon), '\\n=====> 2 \\n:', grcon.head(3), '\\n=====> 3 :', grcon.shape)\n",
    "    print(grcon[\"year\"].count())"
   ]
  },
  {
   "cell_type": "code",
   "execution_count": 12,
   "metadata": {},
   "outputs": [
    {
     "name": "stdout",
     "output_type": "stream",
     "text": [
      "continent\n",
      "Africa      12\n",
      "Americas    12\n",
      "Asia        12\n",
      "Europe      12\n",
      "Oceania     12\n",
      "Name: year, dtype: int64 \n",
      "=====>\n",
      "continent\n",
      "Africa      [1952, 1957, 1962, 1967, 1972, 1977, 1982, 198...\n",
      "Americas    [1952, 1957, 1962, 1967, 1972, 1977, 1982, 198...\n",
      "Asia        [1952, 1957, 1962, 1967, 1972, 1977, 1982, 198...\n",
      "Europe      [1952, 1957, 1962, 1967, 1972, 1977, 1982, 198...\n",
      "Oceania     [1952, 1957, 1962, 1967, 1972, 1977, 1982, 198...\n",
      "Name: year, dtype: object \n",
      "=====>\n",
      "continent\n",
      "Africa      [1952, 1957, 1962, 1967, 1972, 1977, 1982, 198...\n",
      "Americas    [1952, 1957, 1962, 1967, 1972, 1977, 1982, 198...\n",
      "Asia        [1952, 1957, 1962, 1967, 1972, 1977, 1982, 198...\n",
      "Europe      [1952, 1957, 1962, 1967, 1972, 1977, 1982, 198...\n",
      "Oceania     [1952, 1957, 1962, 1967, 1972, 1977, 1982, 198...\n",
      "Name: year, dtype: object ['africa'] \n",
      "=====>\n"
     ]
    }
   ],
   "source": [
    "print(df.groupby('continent')['year'].nunique(),\"\\n=====>\")\n",
    "print(df.groupby('continent')['year'].unique(),\"\\n=====>\")\n",
    "print(df.groupby('continent')['year'].unique(),['africa'],\"\\n=====>\")"
   ]
  }
 ],
 "metadata": {
  "kernelspec": {
   "display_name": "Python 3",
   "language": "python",
   "name": "python3"
  },
  "language_info": {
   "codemirror_mode": {
    "name": "ipython",
    "version": 3
   },
   "file_extension": ".py",
   "mimetype": "text/x-python",
   "name": "python",
   "nbconvert_exporter": "python",
   "pygments_lexer": "ipython3",
   "version": "3.6.5"
  }
 },
 "nbformat": 4,
 "nbformat_minor": 2
}
