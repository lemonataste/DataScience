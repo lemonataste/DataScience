{
 "cells": [
  {
   "cell_type": "code",
   "execution_count": 1,
   "metadata": {},
   "outputs": [],
   "source": [
    "import pandas as pd"
   ]
  },
  {
   "cell_type": "code",
   "execution_count": 2,
   "metadata": {},
   "outputs": [],
   "source": [
    "df = pd.read_csv('../data/gapminder.tsv', sep='\\t')"
   ]
  },
  {
   "cell_type": "code",
   "execution_count": 16,
   "metadata": {},
   "outputs": [],
   "source": [
    "unilist = df['continent'].unique()"
   ]
  },
  {
   "cell_type": "code",
   "execution_count": 22,
   "metadata": {},
   "outputs": [
    {
     "name": "stdout",
     "output_type": "stream",
     "text": [
      "['Asia' 'Europe' 'Africa' 'Americas' 'Oceania']\n",
      "60.064903232323175\n",
      "71.90368611111106\n",
      "48.86533012820508\n",
      "64.65873666666667\n",
      "74.32620833333333\n",
      "             lifeExp     gdpPercap\n",
      "continent                         \n",
      "Africa     48.865330   2193.754578\n",
      "Americas   64.658737   7136.110356\n",
      "Asia       60.064903   7902.150428\n",
      "Europe     71.903686  14469.475533\n",
      "Oceania    74.326208  18621.609223\n"
     ]
    }
   ],
   "source": [
    "print(unilist)\n",
    "for idx in unilist:\n",
    "    conList = df[df['continent']==idx]\n",
    "    print(conList[\"lifeExp\"].mean())\n",
    "print(df.groupby('continent')[['lifeExp','gdpPercap']].mean())"
   ]
  }
 ],
 "metadata": {
  "kernelspec": {
   "display_name": "Python 3",
   "language": "python",
   "name": "python3"
  },
  "language_info": {
   "codemirror_mode": {
    "name": "ipython",
    "version": 3
   },
   "file_extension": ".py",
   "mimetype": "text/x-python",
   "name": "python",
   "nbconvert_exporter": "python",
   "pygments_lexer": "ipython3",
   "version": "3.6.5"
  }
 },
 "nbformat": 4,
 "nbformat_minor": 2
}
