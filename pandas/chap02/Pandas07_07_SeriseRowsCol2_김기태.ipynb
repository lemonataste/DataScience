{
 "cells": [
  {
   "cell_type": "code",
   "execution_count": 23,
   "metadata": {},
   "outputs": [],
   "source": [
    "import pandas as pd"
   ]
  },
  {
   "cell_type": "code",
   "execution_count": 24,
   "metadata": {},
   "outputs": [
    {
     "name": "stdout",
     "output_type": "stream",
     "text": [
      "    수학  영어   음악   체육\n",
      "서준  90  98   85  100\n",
      "우현  80  89   95   90\n",
      "인아  70  95  100   90 \n",
      "\n",
      "수학     90\n",
      "영어     98\n",
      "음악     85\n",
      "체육    100\n",
      "Name: 서준, dtype: int64 \n",
      "\n",
      "수학     90\n",
      "영어     98\n",
      "음악     85\n",
      "체육    100\n",
      "Name: 서준, dtype: int64 \n",
      "\n"
     ]
    }
   ],
   "source": [
    "exam_data = {'수학' : [90,80,70], '영어': [98,89,95],\n",
    "            '음악' : [85,95,100], '체육' : [100,90,90]}\n",
    "\n",
    "df = pd.DataFrame(exam_data, index=['서준','우현','인아'])\n",
    "print(df,'\\n')\n",
    "\n",
    "label1 = df.loc[\"서준\"]\n",
    "position1 = df.iloc[0]\n",
    "print(label1,'\\n')\n",
    "print(position1,'\\n')"
   ]
  },
  {
   "cell_type": "code",
   "execution_count": 9,
   "metadata": {},
   "outputs": [
    {
     "name": "stdout",
     "output_type": "stream",
     "text": [
      "    수학  영어  음악   체육\n",
      "서준  90  98  85  100\n",
      "우현  80  89  95   90 \n",
      "\n",
      "    수학  영어   음악   체육\n",
      "서준  90  98   85  100\n",
      "인아  70  95  100   90 \n",
      "\n",
      "    수학  영어  음악   체육\n",
      "서준  90  98  85  100\n",
      "우현  80  89  95   90 \n",
      "\n",
      "    수학  영어  음악   체육\n",
      "서준  90  98  85  100\n"
     ]
    }
   ],
   "source": [
    "label2 = df.loc[['서준','우현']]\n",
    "position2 = df.iloc[[0,2]]\n",
    "print(label2,'\\n')\n",
    "print(position2,'\\n')\n",
    "\n",
    "label3 = df.loc['서준':'우현']\n",
    "position3= df.iloc[0:1]\n",
    "print(label3,'\\n')\n",
    "print(position3)\n"
   ]
  },
  {
   "cell_type": "code",
   "execution_count": 22,
   "metadata": {},
   "outputs": [
    {
     "name": "stdout",
     "output_type": "stream",
     "text": [
      "   이름  수학  영어   음악   체육\n",
      "0  서준  90  98   85  100\n",
      "1  우현  80  89   95   90\n",
      "2  인아  70  95  100   90 \n",
      "\n",
      "0    90\n",
      "1    80\n",
      "2    70\n",
      "Name: 수학, dtype: int64 \n",
      "\n",
      "0    98\n",
      "1    89\n",
      "2    95\n",
      "Name: 영어, dtype: int64\n"
     ]
    }
   ],
   "source": [
    "exam_data = {'이름' : ['서준','우현','인아'],\n",
    "            '수학' : [90,80,70],\n",
    "            '영어' : [98,89,95],\n",
    "            '음악' : [85,95,100],\n",
    "            '체육' : [100,90,90]}\n",
    "\n",
    "df = pd.DataFrame(exam_data)\n",
    "print(df,'\\n')\n",
    "\n",
    "math1 = df['수학']\n",
    "print(math1,'\\n')\n",
    "\n",
    "english = df.영어\n",
    "print(english)"
   ]
  },
  {
   "cell_type": "code",
   "execution_count": 19,
   "metadata": {},
   "outputs": [
    {
     "name": "stdout",
     "output_type": "stream",
     "text": [
      "    음악   체육\n",
      "0   85  100\n",
      "1   95   90\n",
      "2  100   90 \n",
      "\n",
      "   수학\n",
      "0  90\n",
      "1  80\n",
      "2  70\n"
     ]
    }
   ],
   "source": [
    "music_gym = df[['음악', '체육']]\n",
    "print(music_gym,'\\n')\n",
    "\n",
    "math2 = df[['수학']]\n",
    "print(math2)"
   ]
  },
  {
   "cell_type": "code",
   "execution_count": 20,
   "metadata": {},
   "outputs": [
    {
     "name": "stdout",
     "output_type": "stream",
     "text": [
      "0    90\n",
      "1    80\n",
      "2    70\n",
      "Name: 수학, dtype: int64\n"
     ]
    }
   ],
   "source": [
    "math2 = df['수학']\n",
    "print(math2)"
   ]
  },
  {
   "cell_type": "code",
   "execution_count": 25,
   "metadata": {},
   "outputs": [
    {
     "name": "stdout",
     "output_type": "stream",
     "text": [
      "음악     85\n",
      "체육    100\n",
      "Name: 서준, dtype: int64 \n",
      "\n",
      "음악     85\n",
      "체육    100\n",
      "Name: 서준, dtype: int64 \n",
      "\n",
      "음악     85\n",
      "체육    100\n",
      "Name: 서준, dtype: int64 \n",
      "\n",
      "음악     85\n",
      "체육    100\n",
      "Name: 서준, dtype: int64 \n",
      "\n",
      "    음악   체육\n",
      "서준  85  100\n",
      "우현  95   90 \n",
      "\n",
      "    음악   체육\n",
      "서준  85  100\n",
      "우현  95   90 \n",
      "\n",
      "    음악   체육\n",
      "서준  85  100\n",
      "우현  95   90 \n",
      "\n"
     ]
    }
   ],
   "source": [
    "c = df.loc['서준', ['음악','체육']]\n",
    "print(c,'\\n')\n",
    "d= df.iloc[0,[2,3]]\n",
    "print(d,'\\n')\n",
    "e = df.loc['서준','음악':'체육']\n",
    "print(e,'\\n')\n",
    "f= df.iloc[0,2:]\n",
    "print(f,'\\n')\n",
    "\n",
    "g = df.loc[['서준','우현'],['음악','체육']]\n",
    "print(g,'\\n')\n",
    "h = df.iloc[[0,1],[2,3]]\n",
    "print(h,'\\n')\n",
    "i = df.loc['서준':'우현','음악':'체육']\n",
    "print(i,'\\n')\n",
    "j = df.iloc[0:2,2:]"
   ]
  },
  {
   "cell_type": "code",
   "execution_count": 27,
   "metadata": {},
   "outputs": [
    {
     "data": {
      "text/html": [
       "<div>\n",
       "<style scoped>\n",
       "    .dataframe tbody tr th:only-of-type {\n",
       "        vertical-align: middle;\n",
       "    }\n",
       "\n",
       "    .dataframe tbody tr th {\n",
       "        vertical-align: top;\n",
       "    }\n",
       "\n",
       "    .dataframe thead th {\n",
       "        text-align: right;\n",
       "    }\n",
       "</style>\n",
       "<table border=\"1\" class=\"dataframe\">\n",
       "  <thead>\n",
       "    <tr style=\"text-align: right;\">\n",
       "      <th></th>\n",
       "      <th>음악</th>\n",
       "      <th>체육</th>\n",
       "    </tr>\n",
       "  </thead>\n",
       "  <tbody>\n",
       "    <tr>\n",
       "      <th>서준</th>\n",
       "      <td>85</td>\n",
       "      <td>100</td>\n",
       "    </tr>\n",
       "    <tr>\n",
       "      <th>우현</th>\n",
       "      <td>95</td>\n",
       "      <td>90</td>\n",
       "    </tr>\n",
       "    <tr>\n",
       "      <th>인아</th>\n",
       "      <td>100</td>\n",
       "      <td>90</td>\n",
       "    </tr>\n",
       "  </tbody>\n",
       "</table>\n",
       "</div>"
      ],
      "text/plain": [
       "     음악   체육\n",
       "서준   85  100\n",
       "우현   95   90\n",
       "인아  100   90"
      ]
     },
     "execution_count": 27,
     "metadata": {},
     "output_type": "execute_result"
    }
   ],
   "source": [
    "df.loc[:,['음악','체육']]"
   ]
  },
  {
   "cell_type": "code",
   "execution_count": 29,
   "metadata": {},
   "outputs": [
    {
     "name": "stdout",
     "output_type": "stream",
     "text": [
      "    수학  영어   음악   체육\n",
      "서준  90  98   85  100\n",
      "우현  80  89   95   90\n",
      "인아  70  95  100   90\n"
     ]
    },
    {
     "data": {
      "text/html": [
       "<div>\n",
       "<style scoped>\n",
       "    .dataframe tbody tr th:only-of-type {\n",
       "        vertical-align: middle;\n",
       "    }\n",
       "\n",
       "    .dataframe tbody tr th {\n",
       "        vertical-align: top;\n",
       "    }\n",
       "\n",
       "    .dataframe thead th {\n",
       "        text-align: right;\n",
       "    }\n",
       "</style>\n",
       "<table border=\"1\" class=\"dataframe\">\n",
       "  <thead>\n",
       "    <tr style=\"text-align: right;\">\n",
       "      <th></th>\n",
       "      <th>음악</th>\n",
       "      <th>체육</th>\n",
       "    </tr>\n",
       "  </thead>\n",
       "  <tbody>\n",
       "    <tr>\n",
       "      <th>서준</th>\n",
       "      <td>85</td>\n",
       "      <td>100</td>\n",
       "    </tr>\n",
       "    <tr>\n",
       "      <th>우현</th>\n",
       "      <td>95</td>\n",
       "      <td>90</td>\n",
       "    </tr>\n",
       "    <tr>\n",
       "      <th>인아</th>\n",
       "      <td>100</td>\n",
       "      <td>90</td>\n",
       "    </tr>\n",
       "  </tbody>\n",
       "</table>\n",
       "</div>"
      ],
      "text/plain": [
       "     음악   체육\n",
       "서준   85  100\n",
       "우현   95   90\n",
       "인아  100   90"
      ]
     },
     "execution_count": 29,
     "metadata": {},
     "output_type": "execute_result"
    }
   ],
   "source": [
    "print(df)\n",
    "df.iloc[:,[2,3]]"
   ]
  },
  {
   "cell_type": "code",
   "execution_count": 30,
   "metadata": {},
   "outputs": [
    {
     "data": {
      "text/html": [
       "<div>\n",
       "<style scoped>\n",
       "    .dataframe tbody tr th:only-of-type {\n",
       "        vertical-align: middle;\n",
       "    }\n",
       "\n",
       "    .dataframe tbody tr th {\n",
       "        vertical-align: top;\n",
       "    }\n",
       "\n",
       "    .dataframe thead th {\n",
       "        text-align: right;\n",
       "    }\n",
       "</style>\n",
       "<table border=\"1\" class=\"dataframe\">\n",
       "  <thead>\n",
       "    <tr style=\"text-align: right;\">\n",
       "      <th></th>\n",
       "      <th>음악</th>\n",
       "      <th>체육</th>\n",
       "    </tr>\n",
       "  </thead>\n",
       "  <tbody>\n",
       "    <tr>\n",
       "      <th>서준</th>\n",
       "      <td>85</td>\n",
       "      <td>100</td>\n",
       "    </tr>\n",
       "    <tr>\n",
       "      <th>우현</th>\n",
       "      <td>95</td>\n",
       "      <td>90</td>\n",
       "    </tr>\n",
       "    <tr>\n",
       "      <th>인아</th>\n",
       "      <td>100</td>\n",
       "      <td>90</td>\n",
       "    </tr>\n",
       "  </tbody>\n",
       "</table>\n",
       "</div>"
      ],
      "text/plain": [
       "     음악   체육\n",
       "서준   85  100\n",
       "우현   95   90\n",
       "인아  100   90"
      ]
     },
     "execution_count": 30,
     "metadata": {},
     "output_type": "execute_result"
    }
   ],
   "source": [
    "df.iloc[:,2:4]"
   ]
  }
 ],
 "metadata": {
  "kernelspec": {
   "display_name": "Python 3",
   "language": "python",
   "name": "python3"
  },
  "language_info": {
   "codemirror_mode": {
    "name": "ipython",
    "version": 3
   },
   "file_extension": ".py",
   "mimetype": "text/x-python",
   "name": "python",
   "nbconvert_exporter": "python",
   "pygments_lexer": "ipython3",
   "version": "3.6.5"
  }
 },
 "nbformat": 4,
 "nbformat_minor": 2
}
