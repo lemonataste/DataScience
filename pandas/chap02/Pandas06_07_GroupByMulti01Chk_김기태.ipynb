{
 "cells": [
  {
   "cell_type": "code",
   "execution_count": 1,
   "metadata": {},
   "outputs": [],
   "source": [
    "import pandas as pd"
   ]
  },
  {
   "cell_type": "code",
   "execution_count": 2,
   "metadata": {},
   "outputs": [],
   "source": [
    "df = pd.read_csv('../data/gapminder.tsv', sep='\\t')"
   ]
  },
  {
   "cell_type": "code",
   "execution_count": 7,
   "metadata": {},
   "outputs": [
    {
     "name": "stdout",
     "output_type": "stream",
     "text": [
      "<pandas.core.groupby.groupby.SeriesGroupBy object at 0x0000021F935D54A8>\n",
      "year  continent\n",
      "1952  Africa       39.135500\n",
      "      Americas     53.279840\n",
      "      Asia         46.314394\n",
      "      Europe       64.408500\n",
      "      Oceania      69.255000\n",
      "1957  Africa       41.266346\n",
      "      Americas     55.960280\n",
      "      Asia         49.318544\n",
      "      Europe       66.703067\n",
      "      Oceania      70.295000\n",
      "1962  Africa       43.319442\n",
      "      Americas     58.398760\n",
      "      Asia         51.563223\n",
      "      Europe       68.539233\n",
      "      Oceania      71.085000\n",
      "1967  Africa       45.334538\n",
      "      Americas     60.410920\n",
      "      Asia         54.663640\n",
      "      Europe       69.737600\n",
      "      Oceania      71.310000\n",
      "1972  Africa       47.450942\n",
      "      Americas     62.394920\n",
      "      Asia         57.319269\n",
      "      Europe       70.775033\n",
      "      Oceania      71.910000\n",
      "1977  Africa       49.580423\n",
      "      Americas     64.391560\n",
      "      Asia         59.610556\n",
      "      Europe       71.937767\n",
      "      Oceania      72.855000\n",
      "1982  Africa       51.592865\n",
      "      Americas     66.228840\n",
      "      Asia         62.617939\n",
      "      Europe       72.806400\n",
      "      Oceania      74.290000\n",
      "1987  Africa       53.344788\n",
      "      Americas     68.090720\n",
      "      Asia         64.851182\n",
      "      Europe       73.642167\n",
      "      Oceania      75.320000\n",
      "1992  Africa       53.629577\n",
      "      Americas     69.568360\n",
      "      Asia         66.537212\n",
      "      Europe       74.440100\n",
      "      Oceania      76.945000\n",
      "1997  Africa       53.598269\n",
      "      Americas     71.150480\n",
      "      Asia         68.020515\n",
      "      Europe       75.505167\n",
      "      Oceania      78.190000\n",
      "2002  Africa       53.325231\n",
      "      Americas     72.422040\n",
      "      Asia         69.233879\n",
      "      Europe       76.700600\n",
      "      Oceania      79.740000\n",
      "2007  Africa       54.806038\n",
      "      Americas     73.608120\n",
      "      Asia         70.728485\n",
      "      Europe       77.648600\n",
      "      Oceania      80.719500\n",
      "Name: lifeExp, dtype: float64\n",
      "60\n"
     ]
    }
   ],
   "source": [
    "multi_group_var = df.groupby(['year','continent'])['lifeExp']\n",
    "print(multi_group_var)\n",
    "print(multi_group_var.mean())\n",
    "print(multi_group_var.mean().count())"
   ]
  },
  {
   "cell_type": "code",
   "execution_count": 17,
   "metadata": {},
   "outputs": [],
   "source": [
    "yearuni = df['year'].unique()\n",
    "conuni = df['continent'].unique()"
   ]
  },
  {
   "cell_type": "code",
   "execution_count": 28,
   "metadata": {},
   "outputs": [
    {
     "name": "stdout",
     "output_type": "stream",
     "text": [
      "1952\t\n",
      "Asia\t5195.484004039395\t46.314393939393945\n",
      "Europe\t5661.057434759999\t64.40849999999999\n",
      "Africa\t1252.5724658211536\t39.1355\n",
      "Americas\t4079.0625522000005\t53.27983999999999\n",
      "Oceania\t10298.08565\t69.255\n",
      "1957\t\n",
      "Asia\t5787.732939942423\t49.31854424242425\n",
      "Europe\t6963.012815933334\t66.70306666666667\n",
      "Africa\t1385.2360622557696\t41.26634615384614\n",
      "Americas\t4616.04373316\t55.96027999999999\n",
      "Oceania\t11598.522455\t70.295\n",
      "1962\t\n",
      "Asia\t5729.369624775757\t51.563223030303035\n",
      "Europe\t8365.4868143\t68.53923333333334\n",
      "Africa\t1598.0788248461538\t43.31944230769231\n",
      "Americas\t4901.5418704\t58.398759999999996\n",
      "Oceania\t12696.45243\t71.08500000000001\n",
      "1967\t\n",
      "Asia\t5971.173373606061\t54.66364\n",
      "Europe\t10143.823756533333\t69.73759999999999\n",
      "Africa\t2050.3638008576922\t45.33453846153846\n",
      "Americas\t5668.25349604\t60.410920000000004\n",
      "Oceania\t14495.02179\t71.31\n",
      "1972\t\n",
      "Asia\t8187.468699448486\t57.31926909090909\n",
      "Europe\t12479.57524646667\t70.77503333333334\n",
      "Africa\t2339.6156741980767\t47.45094230769231\n",
      "Americas\t6491.334139040001\t62.39492000000002\n",
      "Oceania\t16417.33338\t71.91\n",
      "1977\t\n",
      "Asia\t7791.3140199303025\t59.610556363636356\n",
      "Europe\t14283.9791096\t71.9377666666667\n",
      "Africa\t2585.9385084634623\t49.58042307692306\n",
      "Americas\t7352.007126279999\t64.39155999999998\n",
      "Oceania\t17283.957605\t72.85499999999999\n",
      "1982\t\n",
      "Asia\t7434.135157484849\t62.6179393939394\n",
      "Europe\t15617.896551233333\t72.80639999999998\n",
      "Africa\t2481.5929597538466\t51.59286538461541\n",
      "Americas\t7506.73708808\t66.22884000000002\n",
      "Oceania\t18554.709840000003\t74.28999999999999\n",
      "1987\t\n",
      "Asia\t7608.226507730303\t64.8511818181818\n",
      "Europe\t17214.310726633335\t73.64216666666668\n",
      "Africa\t2282.6689912596153\t53.34478846153844\n",
      "Americas\t7793.40026112\t68.09072\n",
      "Oceania\t20448.04016\t75.32\n",
      "1992\t\n",
      "Asia\t8639.690247730305\t66.53721212121211\n",
      "Europe\t17061.568084200004\t74.44010000000002\n",
      "Africa\t2281.8103332442306\t53.629576923076925\n",
      "Americas\t8044.934405520001\t69.56836\n",
      "Oceania\t20894.045885\t76.945\n",
      "1997\t\n",
      "Asia\t9834.093295248485\t68.02051515151514\n",
      "Europe\t19076.7818016\t75.50516666666667\n",
      "Africa\t2378.7595551019226\t53.59826923076924\n",
      "Americas\t8889.30086256\t71.15048\n",
      "Oceania\t24024.17517\t78.19\n",
      "2002\t\n",
      "Asia\t10174.09039657879\t69.23387878787878\n",
      "Europe\t21711.73242243333\t76.70059999999998\n",
      "Africa\t2599.385158890385\t53.325230769230785\n",
      "Americas\t9287.67710732\t72.42204000000001\n",
      "Oceania\t26938.77804\t79.74000000000001\n",
      "2007\t\n",
      "Asia\t12473.02687013333\t70.72848484848484\n",
      "Europe\t25054.481635933327\t77.64859999999999\n",
      "Africa\t3089.0326047365384\t54.80603846153846\n",
      "Americas\t11003.03162536\t73.60812000000001\n",
      "Oceania\t29810.188274999997\t80.7195\n"
     ]
    }
   ],
   "source": [
    "for i in yearuni:\n",
    "    yearlist = df[df['year']==i]\n",
    "    print(i,end='\\t')\n",
    "    print()\n",
    "    for idx in conuni:\n",
    "        conList = yearlist[yearlist['continent']==idx]\n",
    "        print(idx, end = '\\t')\n",
    "        print(conList['gdpPercap'].mean(),end='\\t')\n",
    "        print(conList['lifeExp'].mean(),end='\\n')\n"
   ]
  },
  {
   "cell_type": "code",
   "execution_count": null,
   "metadata": {},
   "outputs": [],
   "source": [
    "print(unilist)\n",
    "for idx in unilist:\n",
    "    conList = df[df['continent']==idx]\n",
    "    print(conList[\"lifeExp\"].mean())\n",
    "print(df.groupby('continent')[['lifeExp','gdpPercap']].mean())"
   ]
  }
 ],
 "metadata": {
  "kernelspec": {
   "display_name": "Python 3",
   "language": "python",
   "name": "python3"
  },
  "language_info": {
   "codemirror_mode": {
    "name": "ipython",
    "version": 3
   },
   "file_extension": ".py",
   "mimetype": "text/x-python",
   "name": "python",
   "nbconvert_exporter": "python",
   "pygments_lexer": "ipython3",
   "version": "3.6.5"
  }
 },
 "nbformat": 4,
 "nbformat_minor": 2
}
