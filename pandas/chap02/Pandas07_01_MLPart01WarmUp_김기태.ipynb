{
 "cells": [
  {
   "cell_type": "code",
   "execution_count": 4,
   "metadata": {},
   "outputs": [],
   "source": [
    "import pandas as pd"
   ]
  },
  {
   "cell_type": "code",
   "execution_count": 5,
   "metadata": {},
   "outputs": [
    {
     "name": "stdout",
     "output_type": "stream",
     "text": [
      "<class 'pandas.core.series.Series'>\n",
      "a    [1, 3]\n",
      "b    [2, 3]\n",
      "c    [3, 3]\n",
      "dtype: object\n"
     ]
    }
   ],
   "source": [
    "dict_data={'a':[1,3],'b':[2,3], 'c': [3,3]}\n",
    "\n",
    "sr = pd.Series(dict_data)\n",
    "\n",
    "print(type(sr))\n",
    "\n",
    "print(sr)"
   ]
  },
  {
   "cell_type": "code",
   "execution_count": 6,
   "metadata": {},
   "outputs": [
    {
     "name": "stdout",
     "output_type": "stream",
     "text": [
      "0    2021-05-19\n",
      "1          3.14\n",
      "2           ABC\n",
      "3           100\n",
      "4          True\n",
      "dtype: object \n",
      "\n",
      "sr.index :  RangeIndex(start=0, stop=5, step=1) \n",
      "\n",
      "sr.index type :  <class 'pandas.core.indexes.range.RangeIndex'> \n",
      "\n",
      "sr.values :  ['2021-05-19' 3.14 'ABC' 100 True]\n",
      "sr.values type :  <class 'numpy.ndarray'>\n"
     ]
    }
   ],
   "source": [
    "# 리스트를 시리즈로 변환하여 변수 sr에 저장\n",
    "list_data = ['2021-05-19',3.14,'ABC',100,True]\n",
    "sr=pd.Series(list_data)\n",
    "print(sr,'\\n')\n",
    "\n",
    "# 인덱스 배열을 변수 idx에 저장. 데이터 값 배열은 변수 val에 저장\n",
    "idx = sr.index\n",
    "val = sr.values\n",
    "print(\"sr.index : \",idx,'\\n')\n",
    "print(\"sr.index type : \",type(idx), '\\n')\n",
    "print('sr.values : ',val)\n",
    "print(\"sr.values type : \",type(val))"
   ]
  },
  {
   "cell_type": "code",
   "execution_count": 7,
   "metadata": {},
   "outputs": [
    {
     "name": "stdout",
     "output_type": "stream",
     "text": [
      "이름              영인\n",
      "생년월일    2010-05-01\n",
      "성별               여\n",
      "학생여부          True\n",
      "dtype: object \n",
      "\n",
      "영인 \n",
      "\n",
      "영인\n"
     ]
    }
   ],
   "source": [
    "# 투플을 시리즈로 변환(index 옵션에 인덱스 이름을 지정)\n",
    "tup_data = ('영인', '2010-05-01','여', True)\n",
    "\n",
    "#sr = pd.Series(tup_data)\n",
    "sr = pd.Series(tup_data, index = ['이름','생년월일','성별','학생여부'])\n",
    "\n",
    "print(sr,'\\n')\n",
    "\n",
    "# 원소를 한개 선택 \n",
    "print(sr[0],'\\n')   #sr의 1 번째 원소를 가진 선택(정수형 위치 인덱스를 활용)\n",
    "print(sr['이름'])"
   ]
  },
  {
   "cell_type": "code",
   "execution_count": 8,
   "metadata": {},
   "outputs": [
    {
     "name": "stdout",
     "output_type": "stream",
     "text": [
      "생년월일    2010-05-01\n",
      "성별               여\n",
      "dtype: object \n",
      "\n",
      "생년월일    2010-05-01\n",
      "성별               여\n",
      "dtype: object \n",
      "\n",
      "생년월일    2010-05-01\n",
      "dtype: object \n",
      "\n",
      "생년월일    2010-05-01\n",
      "성별               여\n",
      "dtype: object\n"
     ]
    }
   ],
   "source": [
    "# 여러개의 원소를 선택 (인덱스 리스트 활용)\n",
    "print(sr[[1,2]],'\\n')\n",
    "print(sr[['생년월일','성별']],'\\n')\n",
    "\n",
    "# 여러개의 원소를 선택 (인덱스 범위 지정)\n",
    "print(sr[1:2],'\\n')\n",
    "print(sr['생년월일':'성별'])"
   ]
  },
  {
   "cell_type": "code",
   "execution_count": 2,
   "metadata": {},
   "outputs": [
    {
     "name": "stdout",
     "output_type": "stream",
     "text": [
      "range(1, 7)\n",
      "1\n",
      "2\n",
      "3\n",
      "4\n",
      "5\n",
      "6\n"
     ]
    }
   ],
   "source": [
    "a = range(1,7)\n",
    "print(a)\n",
    "for idx in a:\n",
    "    print(idx)"
   ]
  },
  {
   "cell_type": "code",
   "execution_count": null,
   "metadata": {},
   "outputs": [],
   "source": [
    "test = sr['생년월일' : '성별']\n",
    "print(test)\n",
    "type(test)"
   ]
  }
 ],
 "metadata": {
  "kernelspec": {
   "display_name": "Python 3",
   "language": "python",
   "name": "python3"
  },
  "language_info": {
   "codemirror_mode": {
    "name": "ipython",
    "version": 3
   },
   "file_extension": ".py",
   "mimetype": "text/x-python",
   "name": "python",
   "nbconvert_exporter": "python",
   "pygments_lexer": "ipython3",
   "version": "3.6.5"
  }
 },
 "nbformat": 4,
 "nbformat_minor": 2
}
