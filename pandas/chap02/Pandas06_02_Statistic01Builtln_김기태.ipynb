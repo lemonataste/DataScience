{
 "cells": [
  {
   "cell_type": "code",
   "execution_count": 1,
   "metadata": {},
   "outputs": [],
   "source": [
    "import pandas as pd"
   ]
  },
  {
   "cell_type": "code",
   "execution_count": 2,
   "metadata": {},
   "outputs": [
    {
     "name": "stdout",
     "output_type": "stream",
     "text": [
      "Bulit-in 정렬 sort_values() : \n",
      " 6     20\n",
      "2     24\n",
      "3     25\n",
      "9     26\n",
      "0     28\n",
      "4     30\n",
      "7     30\n",
      "1     31\n",
      "8     31\n",
      "10    31\n",
      "5     32\n",
      "dtype: int64\n",
      "Bulit-in 평균 mean() : 28\n",
      "Bulit-in 중위수 median() : 30\n",
      "Bulit-in 분산 var() : 14\n",
      "Bulit-in 표준편차 std() : 3\n",
      "Bulit-in 제1사분위수 quantile() : 25\n",
      "Bulit-in 제2사분위수 quantile() : 30\n",
      "Bulit-in 제3사분위수 quantile() : 31\n"
     ]
    }
   ],
   "source": [
    "datalist = [28,31,24,25,30,32,20,30,31,26,31]\n",
    "da = pd.Series(datalist)\n",
    "print(\"Bulit-in 정렬 sort_values() : \\n\", da.sort_values(ascending=True))\n",
    "print(\"Bulit-in 평균 mean() : %d\"%da.mean())\n",
    "print(\"Bulit-in 중위수 median() : %d\"%da.median())\n",
    "print(\"Bulit-in 분산 var() : %d\"%da.var())\n",
    "print(\"Bulit-in 표준편차 std() : %d\"%da.std())\n",
    "print(\"Bulit-in 제1사분위수 quantile() : %d\"%da.quantile(q=0.25))\n",
    "print(\"Bulit-in 제2사분위수 quantile() : %d\"%da.quantile(q=0.5))\n",
    "print(\"Bulit-in 제3사분위수 quantile() : %d\"%da.quantile(q=0.7))"
   ]
  },
  {
   "cell_type": "code",
   "execution_count": null,
   "metadata": {},
   "outputs": [],
   "source": []
  }
 ],
 "metadata": {
  "kernelspec": {
   "display_name": "Python 3",
   "language": "python",
   "name": "python3"
  },
  "language_info": {
   "codemirror_mode": {
    "name": "ipython",
    "version": 3
   },
   "file_extension": ".py",
   "mimetype": "text/x-python",
   "name": "python",
   "nbconvert_exporter": "python",
   "pygments_lexer": "ipython3",
   "version": "3.6.5"
  }
 },
 "nbformat": 4,
 "nbformat_minor": 2
}
